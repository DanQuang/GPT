{
 "cells": [
  {
   "cell_type": "code",
   "execution_count": null,
   "metadata": {},
   "outputs": [],
   "source": [
    "from models.GPT import GPTModel\n",
    "from tasks.train import Trainer\n",
    "\n",
    "\n",
    "model = GPTModel()\n",
    "total_params = sum(p.numel() for p in model.parameters())\n",
    "print(f\"Total number of parameters: {total_params:,}\")"
   ]
  },
  {
   "cell_type": "code",
   "execution_count": null,
   "metadata": {},
   "outputs": [],
   "source": [
    "training_args = {\n",
    "    'output_dir': './my_model',\n",
    "    'data_path': './data/the-verdict.txt',\n",
    "    'num_epochs': 5,\n",
    "    'train_batch_size': 16,\n",
    "    'val_batch_size': 16,\n",
    "    'learning_rate': 1e-5,\n",
    "    'weight_decay': 0.01 # Use with AdamW\n",
    "}\n",
    "\n",
    "trainer = Trainer(model= model,\n",
    "                  training_args= training_args)"
   ]
  },
  {
   "cell_type": "code",
   "execution_count": null,
   "metadata": {},
   "outputs": [],
   "source": [
    "trainer.train()"
   ]
  }
 ],
 "metadata": {
  "kernelspec": {
   "display_name": "Python 3",
   "language": "python",
   "name": "python3"
  },
  "language_info": {
   "codemirror_mode": {
    "name": "ipython",
    "version": 3
   },
   "file_extension": ".py",
   "mimetype": "text/x-python",
   "name": "python",
   "nbconvert_exporter": "python",
   "pygments_lexer": "ipython3",
   "version": "3.10.9"
  }
 },
 "nbformat": 4,
 "nbformat_minor": 2
}
